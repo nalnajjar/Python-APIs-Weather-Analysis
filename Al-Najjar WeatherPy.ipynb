{
 "cells": [
  {
   "cell_type": "markdown",
   "metadata": {},
   "source": [
    "# WeatherPy\n",
    "----\n",
    "\n",
    "#### Note\n",
    "* Instructions have been included for each segment. You do not have to follow them exactly, but they are included to help you think through the steps."
   ]
  },
  {
   "cell_type": "code",
   "execution_count": 3,
   "metadata": {
    "scrolled": true
   },
   "outputs": [],
   "source": [
    "# Dependencies and Setup\n",
    "import matplotlib.pyplot as plt\n",
    "import pandas as pd\n",
    "import numpy as np\n",
    "import requests\n",
    "import time\n",
    "from scipy import stats\n",
    "from scipy.stats import linregress\n",
    "import json\n",
    "\n",
    "# Import API key\n",
    "from api_keys import weather_api_key\n",
    "\n",
    "# Incorporated citipy to determine city based on latitude and longitude\n",
    "from citipy import citipy\n",
    "\n",
    "# Output File (CSV)\n",
    "output_data_file = \"output_data/cities.csv\"\n",
    "\n",
    "# Range of latitudes and longitudes\n",
    "lat_range = (-90, 90)\n",
    "lng_range = (-180, 180)"
   ]
  },
  {
   "cell_type": "code",
   "execution_count": 4,
   "metadata": {},
   "outputs": [
    {
     "data": {
      "text/plain": [
       "631"
      ]
     },
     "execution_count": 4,
     "metadata": {},
     "output_type": "execute_result"
    }
   ],
   "source": [
    "# List for holding lat_lngs and cities\n",
    "lat_lngs = []\n",
    "cities = []\n",
    "\n",
    "# Create a set of random lat and lng combinations\n",
    "lats = np.random.uniform(low=-90.000, high=90.000, size=1500)\n",
    "lngs = np.random.uniform(low=-180.000, high=180.000, size=1500)\n",
    "lat_lngs = zip(lats, lngs)\n",
    "\n",
    "# Identify nearest city for each lat, lng combination\n",
    "for lat_lng in lat_lngs:\n",
    "    city = citipy.nearest_city(lat_lng[0], lat_lng[1]).city_name\n",
    "    \n",
    "    # If the city is unique, then add it to a our cities list\n",
    "    if city not in cities:\n",
    "        cities.append(city)\n",
    "\n",
    "# Print the city count to confirm sufficient count\n",
    "len(cities)"
   ]
  },
  {
   "cell_type": "code",
   "execution_count": 5,
   "metadata": {},
   "outputs": [],
   "source": [
    "# Save config information.\n",
    "url = \"http://api.openweathermap.org/data/2.5/weather?\"\n",
    "units = \"metric\"\n",
    "\n",
    "\n",
    "# Build partial query URL\n",
    "query_url = f\"{url}appid={weather_api_key}&units={units}&q=\""
   ]
  },
  {
   "cell_type": "code",
   "execution_count": 6,
   "metadata": {},
   "outputs": [],
   "source": [
    "# Lists\n",
    "city_name = []\n",
    "lat = []\n",
    "lng = []\n",
    "temp = []\n",
    "hum = []\n",
    "cloud = []\n",
    "wind = []"
   ]
  },
  {
   "cell_type": "code",
   "execution_count": 7,
   "metadata": {},
   "outputs": [
    {
     "name": "stdout",
     "output_type": "stream",
     "text": [
      "Beginning Data Retrieval\n",
      "-------------------------------\n",
      "Processing Record for jamestown\n",
      "Processing Record for knysna\n",
      "Processing Record for meulaboh\n",
      "Processing Record for jingdezhen\n",
      "Processing Record for sioux lookout\n",
      "Processing Record for atar\n",
      "Processing Record for kagadi\n",
      "Processing Record for ushuaia\n",
      "Processing Record for cape town\n",
      "Processing Record for busselton\n",
      "Processing Record for bredasdorp\n",
      "City Not Found. Skipping...\n",
      "Processing Record for mahebourg\n",
      "Processing Record for albany\n",
      "Processing Record for morondava\n",
      "Processing Record for imperia\n",
      "Processing Record for bluff\n",
      "City Not Found. Skipping...\n",
      "Processing Record for atuona\n",
      "Processing Record for nishihara\n",
      "Processing Record for saskylakh\n",
      "Processing Record for buala\n",
      "Processing Record for avarua\n",
      "Processing Record for arraial do cabo\n",
      "Processing Record for rio cuarto\n",
      "Processing Record for port moresby\n",
      "Processing Record for bodden town\n",
      "Processing Record for sisimiut\n",
      "City Not Found. Skipping...\n",
      "Processing Record for seoul\n",
      "Processing Record for kieta\n",
      "Processing Record for estelle\n",
      "Processing Record for srednekolymsk\n",
      "City Not Found. Skipping...\n",
      "Processing Record for upernavik\n",
      "Processing Record for rikitea\n",
      "Processing Record for mar del plata\n",
      "City Not Found. Skipping...\n",
      "Processing Record for vao\n",
      "Processing Record for tehachapi\n",
      "Processing Record for bati\n",
      "Processing Record for maragogi\n",
      "City Not Found. Skipping...\n",
      "Processing Record for chifeng\n",
      "Processing Record for nalut\n",
      "Processing Record for maunabo\n",
      "Processing Record for camacupa\n",
      "Processing Record for tuktoyaktuk\n",
      "Processing Record for butaritari\n",
      "Processing Record for talnakh\n",
      "Processing Record for hilo\n",
      "Processing Record for barrow\n",
      "Processing Record for broome\n",
      "Processing Record for saint-philippe\n",
      "Processing Record for vaini\n",
      "Processing Record for constitucion\n",
      "Processing Record for faanui\n",
      "Processing Record for ahipara\n",
      "Processing Record for baykit\n",
      "City Not Found. Skipping...\n",
      "Processing Record for pilar\n",
      "Processing Record for santa isabel do rio negro\n",
      "Processing Record for haines junction\n",
      "Processing Record for cabo san lucas\n",
      "Processing Record for dingle\n",
      "Processing Record for thompson\n",
      "Processing Record for lasa\n",
      "Processing Record for nikolskoye\n",
      "Processing Record for severo-kurilsk\n",
      "Processing Record for esperance\n",
      "Processing Record for aberdeen\n",
      "City Not Found. Skipping...\n",
      "City Not Found. Skipping...\n",
      "Processing Record for carnarvon\n",
      "Processing Record for yeppoon\n",
      "Processing Record for port elizabeth\n",
      "Processing Record for luderitz\n",
      "Processing Record for erenhot\n",
      "Processing Record for port alfred\n",
      "Processing Record for anchorage\n",
      "Processing Record for san patricio\n",
      "Processing Record for hulan\n",
      "Processing Record for guerrero negro\n",
      "Processing Record for darhan\n",
      "City Not Found. Skipping...\n",
      "Processing Record for port macquarie\n",
      "Processing Record for tasiilaq\n",
      "Processing Record for castro\n",
      "Processing Record for portland\n",
      "Processing Record for kapaa\n",
      "Processing Record for yellowknife\n",
      "Processing Record for codrington\n",
      "Processing Record for marsh harbour\n",
      "Processing Record for englewood\n",
      "Processing Record for punta arenas\n",
      "Processing Record for changli\n",
      "Processing Record for mirnyy\n",
      "Processing Record for soledade\n",
      "Processing Record for jardim\n",
      "Processing Record for rawson\n",
      "Processing Record for te anau\n",
      "Processing Record for pathalgaon\n",
      "Processing Record for husavik\n",
      "Processing Record for labuhan\n",
      "Processing Record for scarborough\n",
      "Processing Record for yulara\n",
      "Processing Record for nchelenge\n",
      "Processing Record for kroya\n",
      "Processing Record for hambantota\n",
      "Processing Record for torbay\n",
      "Processing Record for leopold\n",
      "Processing Record for lakes entrance\n",
      "Processing Record for kwinana\n",
      "Processing Record for qaanaaq\n",
      "Processing Record for ayan\n",
      "City Not Found. Skipping...\n",
      "Processing Record for neuquen\n",
      "Processing Record for verkhnevilyuysk\n",
      "Processing Record for mataura\n",
      "Processing Record for kavieng\n",
      "Processing Record for buchanan\n",
      "Processing Record for kruisfontein\n",
      "Processing Record for iqaluit\n",
      "Processing Record for rivadavia\n",
      "City Not Found. Skipping...\n",
      "Processing Record for siemiatycze\n",
      "Processing Record for moose factory\n",
      "Processing Record for saint george\n",
      "Processing Record for norman wells\n",
      "Processing Record for ilulissat\n",
      "Processing Record for vila velha\n",
      "City Not Found. Skipping...\n",
      "Processing Record for kysyl-syr\n",
      "Processing Record for pauini\n",
      "Processing Record for murmashi\n",
      "Processing Record for beringovskiy\n",
      "Processing Record for lebu\n",
      "City Not Found. Skipping...\n",
      "City Not Found. Skipping...\n",
      "Processing Record for ancud\n",
      "Processing Record for ponta do sol\n",
      "City Not Found. Skipping...\n",
      "Processing Record for thinadhoo\n",
      "Processing Record for japura\n",
      "Processing Record for opuwo\n",
      "Processing Record for bethel\n",
      "Processing Record for santa marta\n",
      "Processing Record for coihueco\n",
      "Processing Record for emerald\n",
      "Processing Record for matay\n",
      "Processing Record for alofi\n",
      "Processing Record for hithadhoo\n",
      "Processing Record for ballina\n",
      "Processing Record for karratha\n",
      "City Not Found. Skipping...\n",
      "Processing Record for elat\n",
      "Processing Record for masyaf\n",
      "Processing Record for waddan\n",
      "Processing Record for pisco\n",
      "Processing Record for hobart\n",
      "Processing Record for egvekinot\n",
      "Processing Record for georgetown\n",
      "Processing Record for lompoc\n",
      "Processing Record for angoram\n",
      "Processing Record for puerto ayora\n",
      "Processing Record for acapulco\n",
      "Processing Record for vostok\n",
      "Processing Record for richards bay\n",
      "Processing Record for havelock\n",
      "Processing Record for martapura\n",
      "Processing Record for muroto\n",
      "Processing Record for hofn\n",
      "Processing Record for itarantim\n",
      "Processing Record for alice springs\n",
      "Processing Record for san quintin\n",
      "Processing Record for ekhabi\n",
      "Processing Record for bambous virieux\n",
      "Processing Record for tamiahua\n",
      "Processing Record for nyurba\n",
      "Processing Record for aleksandrov gay\n",
      "Processing Record for mlonggo\n",
      "Processing Record for aykhal\n",
      "Processing Record for quatre cocos\n",
      "Processing Record for bambanglipuro\n",
      "Processing Record for padang\n",
      "Processing Record for nome\n",
      "Processing Record for coihaique\n",
      "Processing Record for ambulu\n",
      "City Not Found. Skipping...\n",
      "Processing Record for naze\n",
      "Processing Record for flin flon\n",
      "Processing Record for lavrentiya\n",
      "Processing Record for hamilton\n",
      "Processing Record for pangody\n",
      "Processing Record for letlhakane\n",
      "Processing Record for laguna\n",
      "Processing Record for huilong\n",
      "Processing Record for topeka\n",
      "Processing Record for lorengau\n",
      "City Not Found. Skipping...\n",
      "City Not Found. Skipping...\n",
      "Processing Record for los llanos de aridane\n",
      "Processing Record for kodiak\n",
      "Processing Record for kattivakkam\n",
      "Processing Record for borger\n",
      "City Not Found. Skipping...\n",
      "Processing Record for ust-tsilma\n",
      "Processing Record for aklavik\n",
      "Processing Record for muros\n",
      "Processing Record for alekseyevsk\n",
      "Processing Record for vanimo\n",
      "City Not Found. Skipping...\n",
      "Processing Record for tessalit\n",
      "City Not Found. Skipping...\n",
      "Processing Record for leningradskiy\n",
      "Processing Record for manta\n",
      "Processing Record for east london\n",
      "Processing Record for mahanoro\n",
      "Processing Record for victoria\n",
      "Processing Record for puebloviejo\n",
      "Processing Record for muravlenko\n",
      "Processing Record for lagoa\n",
      "City Not Found. Skipping...\n",
      "Processing Record for chara\n",
      "Processing Record for berlevag\n",
      "Processing Record for belmonte\n",
      "Processing Record for hami\n",
      "Processing Record for aswan\n",
      "Processing Record for santa helena\n",
      "Processing Record for hermanus\n",
      "Processing Record for ternate\n",
      "Processing Record for dubbo\n",
      "Processing Record for nanortalik\n",
      "City Not Found. Skipping...\n",
      "Processing Record for awjilah\n",
      "Processing Record for sibolga\n",
      "Processing Record for novobelokatay\n",
      "Processing Record for berezovyy\n",
      "City Not Found. Skipping...\n",
      "City Not Found. Skipping...\n",
      "Processing Record for parana\n",
      "Processing Record for longyearbyen\n",
      "Processing Record for puerto leguizamo\n",
      "Processing Record for cherskiy\n",
      "Processing Record for walvis bay\n",
      "Processing Record for manavalakurichi\n",
      "Processing Record for lata\n",
      "Processing Record for karauli\n",
      "City Not Found. Skipping...\n",
      "Processing Record for camacha\n",
      "Processing Record for opportunity\n",
      "Processing Record for lienz\n",
      "Processing Record for dikson\n",
      "City Not Found. Skipping...\n",
      "Processing Record for sao filipe\n",
      "City Not Found. Skipping...\n",
      "Processing Record for mantua\n",
      "Processing Record for casa nova\n",
      "Processing Record for namibe\n",
      "Processing Record for kenai\n",
      "Processing Record for sangueya\n",
      "Processing Record for plesetsk\n",
      "Processing Record for bandarbeyla\n",
      "Processing Record for provideniya\n",
      "Processing Record for ambon\n",
      "Processing Record for bubaque\n",
      "City Not Found. Skipping...\n",
      "Processing Record for saldanha\n",
      "Processing Record for norrtalje\n",
      "Processing Record for pochutla\n",
      "City Not Found. Skipping...\n",
      "Processing Record for baglung\n",
      "Processing Record for grand gaube\n",
      "Processing Record for benemerito de las americas\n",
      "Processing Record for edd\n",
      "Processing Record for sorland\n",
      "Processing Record for kungurtug\n",
      "Processing Record for kirovsk\n",
      "Processing Record for krasnokamensk\n",
      "Processing Record for george town\n",
      "Processing Record for bibiani\n",
      "Processing Record for palana\n",
      "Processing Record for inongo\n",
      "Processing Record for livingston\n",
      "City Not Found. Skipping...\n",
      "Processing Record for aasiaat\n",
      "Processing Record for kommunisticheskiy\n",
      "Processing Record for chapais\n",
      "Processing Record for new norfolk\n",
      "City Not Found. Skipping...\n",
      "Processing Record for juba\n",
      "City Not Found. Skipping...\n",
      "Processing Record for sabzevar\n",
      "Processing Record for sa kaeo\n",
      "Processing Record for neath\n",
      "Processing Record for gat\n",
      "Processing Record for ust-nera\n",
      "Processing Record for kedrovyy\n",
      "Processing Record for poronaysk\n",
      "Processing Record for paidha\n",
      "Processing Record for airai\n",
      "Processing Record for vardo\n",
      "City Not Found. Skipping...\n",
      "Processing Record for jinchang\n",
      "Processing Record for micheweni\n",
      "Processing Record for privolzhye\n",
      "Processing Record for kaitangata\n",
      "Processing Record for simoes\n",
      "Processing Record for fortuna\n",
      "Processing Record for khatanga\n",
      "City Not Found. Skipping...\n",
      "Processing Record for traverse city\n",
      "Processing Record for porto-vecchio\n",
      "Processing Record for klaksvik\n",
      "Processing Record for nuzvid\n",
      "Processing Record for baracoa\n",
      "Processing Record for evensk\n",
      "Processing Record for mana\n",
      "Processing Record for atikokan\n",
      "Processing Record for demirci\n",
      "Processing Record for waipawa\n",
      "Processing Record for kahului\n",
      "Processing Record for sao joao da barra\n",
      "City Not Found. Skipping...\n",
      "Processing Record for henderson\n",
      "Processing Record for yar-sale\n",
      "Processing Record for chuy\n",
      "Processing Record for tari\n",
      "Processing Record for balabac\n",
      "Processing Record for coahuayana\n",
      "Processing Record for finschhafen\n",
      "City Not Found. Skipping...\n",
      "Processing Record for dongsheng\n",
      "Processing Record for manzhouli\n",
      "Processing Record for adrar\n",
      "Processing Record for toora-khem\n",
      "Processing Record for kaeo\n",
      "Processing Record for komsomolskiy\n",
      "Processing Record for antofagasta\n",
      "Processing Record for thayetmyo\n",
      "Processing Record for gejiu\n",
      "Processing Record for bowen\n",
      "Processing Record for visnes\n",
      "Processing Record for katsuura\n",
      "Processing Record for pevek\n",
      "City Not Found. Skipping...\n",
      "Processing Record for coquimbo\n",
      "Processing Record for bilibino\n",
      "Processing Record for ust-kalmanka\n",
      "Processing Record for ostrovnoy\n",
      "Processing Record for batagay-alyta\n",
      "Processing Record for saint anthony\n",
      "Processing Record for abu dhabi\n",
      "Processing Record for mandawar\n",
      "Processing Record for atherton\n",
      "Processing Record for mount isa\n",
      "City Not Found. Skipping...\n",
      "Processing Record for northam\n",
      "Processing Record for georgiyevskoye\n",
      "Processing Record for vestmannaeyjar\n",
      "Processing Record for maua\n",
      "Processing Record for sharjah\n",
      "Processing Record for saint-francois\n",
      "Processing Record for puro\n",
      "Processing Record for tautira\n",
      "Processing Record for ende\n",
      "Processing Record for simi valley\n",
      "Processing Record for sept-iles\n",
      "Processing Record for belaya gora\n",
      "Processing Record for tsiroanomandidy\n",
      "Processing Record for goundam\n",
      "Processing Record for mecca\n",
      "Processing Record for san cristobal\n",
      "Processing Record for ribeira grande\n",
      "City Not Found. Skipping...\n",
      "Processing Record for panorama\n",
      "Processing Record for tiksi\n",
      "Processing Record for chaah\n",
      "City Not Found. Skipping...\n",
      "Processing Record for seymchan\n",
      "Processing Record for souillac\n",
      "Processing Record for malpe\n",
      "Processing Record for yanam\n",
      "Processing Record for cabedelo\n",
      "Processing Record for mayumba\n",
      "Processing Record for marsaxlokk\n",
      "Processing Record for bikaner\n",
      "Processing Record for vila franca do campo\n",
      "Processing Record for novikovo\n",
      "City Not Found. Skipping...\n",
      "Processing Record for presidencia roque saenz pena\n",
      "Processing Record for shumskiy\n",
      "Processing Record for adre\n",
      "Processing Record for conde\n",
      "City Not Found. Skipping...\n",
      "Processing Record for chabahar\n",
      "Processing Record for kingisepp\n",
      "Processing Record for pingliang\n",
      "Processing Record for makakilo city\n",
      "Processing Record for miloslavskoye\n",
      "Processing Record for buin\n",
      "Processing Record for tuatapere\n",
      "Processing Record for tupaciguara\n",
      "Processing Record for taylorville\n",
      "Processing Record for xai-xai\n",
      "Processing Record for poum\n",
      "Processing Record for vanavara\n",
      "Processing Record for flinders\n",
      "Processing Record for rogozno\n",
      "Processing Record for tazovskiy\n",
      "Processing Record for guozhen\n",
      "Processing Record for roald\n",
      "Processing Record for khasan\n",
      "Processing Record for aripuana\n",
      "Processing Record for magdagachi\n",
      "Processing Record for hanstholm\n",
      "Processing Record for lebyazhye\n",
      "Processing Record for prince rupert\n",
      "Processing Record for mount pleasant\n",
      "Processing Record for tahe\n",
      "Processing Record for krasnovishersk\n",
      "Processing Record for ketchikan\n",
      "Processing Record for benjamin aceval\n",
      "Processing Record for sao felix do xingu\n",
      "Processing Record for chekhov\n",
      "Processing Record for puerto del rosario\n",
      "Processing Record for igrim\n",
      "Processing Record for isangel\n",
      "Processing Record for bathsheba\n",
      "Processing Record for cuamba\n",
      "Processing Record for margate\n",
      "Processing Record for savonlinna\n",
      "Processing Record for abonnema\n",
      "City Not Found. Skipping...\n",
      "Processing Record for saint-joseph\n",
      "Processing Record for shizunai\n",
      "Processing Record for road town\n",
      "Processing Record for kondoros\n",
      "Processing Record for kerema\n",
      "Processing Record for maputo\n",
      "Processing Record for moses lake\n",
      "Processing Record for salalah\n",
      "Processing Record for gizo\n",
      "Processing Record for avola\n",
      "Processing Record for bojonegoro\n",
      "Processing Record for harper\n",
      "Processing Record for aden\n",
      "Processing Record for juegang\n",
      "Processing Record for nha trang\n",
      "Processing Record for nushki\n",
      "City Not Found. Skipping...\n",
      "Processing Record for beihai\n",
      "Processing Record for jacareacanga\n",
      "Processing Record for peniche\n",
      "Processing Record for waitati\n",
      "Processing Record for cockburn town\n",
      "Processing Record for gorontalo\n",
      "Processing Record for oshkosh\n",
      "City Not Found. Skipping...\n",
      "Processing Record for krasnoshchekovo\n",
      "Processing Record for geraldton\n",
      "Processing Record for chateaudun\n",
      "Processing Record for dire\n",
      "Processing Record for college\n",
      "Processing Record for chokurdakh\n",
      "Processing Record for cururupu\n",
      "Processing Record for tucupita\n",
      "Processing Record for luau\n",
      "Processing Record for dehui\n",
      "Processing Record for kununurra\n",
      "Processing Record for bilma\n",
      "Processing Record for sokolo\n",
      "Processing Record for hasaki\n",
      "Processing Record for lebork\n",
      "Processing Record for marawi\n",
      "Processing Record for kushima\n",
      "Processing Record for lubao\n",
      "Processing Record for touros\n",
      "Processing Record for nuuk\n",
      "Processing Record for talcahuano\n",
      "Processing Record for tailai\n",
      "Processing Record for merida\n",
      "City Not Found. Skipping...\n",
      "Processing Record for gacheta\n",
      "Processing Record for delta del tigre\n",
      "Processing Record for santo tomas\n",
      "Processing Record for vredendal\n",
      "Processing Record for klyuchi\n",
      "Processing Record for kaminskiy\n",
      "Processing Record for eyl\n",
      "Processing Record for kars\n",
      "Processing Record for gobabis\n",
      "City Not Found. Skipping...\n",
      "Processing Record for port lincoln\n",
      "Processing Record for kavaratti\n",
      "City Not Found. Skipping...\n",
      "Processing Record for umm lajj\n",
      "Processing Record for bastia\n",
      "City Not Found. Skipping...\n",
      "Processing Record for ariquemes\n",
      "Processing Record for gamba\n",
      "Processing Record for altay\n",
      "Processing Record for basco\n",
      "Processing Record for hastings\n",
      "Processing Record for timra\n",
      "Processing Record for gravdal\n",
      "City Not Found. Skipping...\n",
      "Processing Record for gimli\n",
      "Processing Record for churapcha\n",
      "Processing Record for solnechnyy\n",
      "Processing Record for araouane\n",
      "Processing Record for port hardy\n",
      "Processing Record for taoudenni\n",
      "Processing Record for ocos\n",
      "Processing Record for banda aceh\n",
      "Processing Record for jutai\n",
      "Processing Record for sanvordem\n",
      "Processing Record for lamar\n",
      "City Not Found. Skipping...\n",
      "Processing Record for caravelas\n",
      "Processing Record for kanniyakumari\n",
      "Processing Record for cidreira\n",
      "Processing Record for tual\n",
      "City Not Found. Skipping...\n",
      "Processing Record for bonthe\n",
      "Processing Record for migori\n",
      "Processing Record for uyuni\n",
      "Processing Record for hovd\n",
      "Processing Record for wanning\n",
      "Processing Record for chicama\n",
      "Processing Record for mareeba\n",
      "City Not Found. Skipping...\n",
      "Processing Record for barcelona\n",
      "Processing Record for zhigansk\n",
      "Processing Record for saint-felicien\n",
      "Processing Record for daru\n",
      "Processing Record for artesia\n",
      "Processing Record for raudeberg\n",
      "Processing Record for biak\n",
      "Processing Record for bluefields\n",
      "Processing Record for west bay\n",
      "Processing Record for anguillara sabazia\n",
      "Processing Record for paamiut\n",
      "Processing Record for dzhalil\n",
      "Processing Record for qaqortoq\n",
      "Processing Record for rundu\n",
      "Processing Record for ponerihouen\n",
      "Processing Record for sorong\n",
      "Processing Record for port hedland\n",
      "City Not Found. Skipping...\n",
      "Processing Record for sitka\n",
      "Processing Record for shingu\n",
      "Processing Record for pa sang\n",
      "City Not Found. Skipping...\n",
      "Processing Record for clyde river\n",
      "Processing Record for dunedin\n",
      "Processing Record for seydi\n",
      "Processing Record for flagstaff\n",
      "Processing Record for halifax\n",
      "Processing Record for mingguang\n",
      "Processing Record for hualmay\n",
      "Processing Record for prieska\n",
      "Processing Record for makat\n",
      "Processing Record for saurimo\n",
      "City Not Found. Skipping...\n",
      "Processing Record for arman\n",
      "Processing Record for llangefni\n",
      "City Not Found. Skipping...\n",
      "Processing Record for hammerfest\n",
      "Processing Record for cowra\n",
      "Processing Record for luba\n",
      "City Not Found. Skipping...\n",
      "Processing Record for reo\n",
      "Processing Record for hobyo\n",
      "City Not Found. Skipping...\n",
      "Processing Record for batsfjord\n",
      "Processing Record for skegness\n",
      "Processing Record for mbandaka\n",
      "Processing Record for zeya\n",
      "Processing Record for novi pazar\n",
      "Processing Record for yumen\n",
      "Processing Record for prabumulih\n",
      "Processing Record for pozo colorado\n",
      "Processing Record for sinegorye\n",
      "Processing Record for surgut\n",
      "Processing Record for gangakher\n",
      "Processing Record for la ronge\n",
      "Processing Record for birao\n",
      "Processing Record for deputatskiy\n",
      "Processing Record for lerwick\n",
      "Processing Record for half moon bay\n",
      "Processing Record for amarante do maranhao\n",
      "Processing Record for okato\n",
      "Processing Record for salto\n",
      "Processing Record for brindisi\n",
      "Processing Record for landeck\n",
      "Processing Record for greenville\n",
      "Processing Record for perth\n",
      "Processing Record for monticello\n",
      "Processing Record for juruti\n",
      "Processing Record for nevers\n",
      "Processing Record for yaan\n",
      "Processing Record for dukat\n",
      "City Not Found. Skipping...\n",
      "Processing Record for adilcevaz\n",
      "Processing Record for el viejo\n",
      "Processing Record for dawei\n",
      "Processing Record for montrose\n",
      "City Not Found. Skipping...\n",
      "Processing Record for dawlatabad\n",
      "Processing Record for evans\n",
      "City Not Found. Skipping...\n",
      "Processing Record for vokhtoga\n",
      "Processing Record for lethem\n",
      "Processing Record for aksay\n",
      "Processing Record for pampa\n",
      "Processing Record for garowe\n",
      "Processing Record for sola\n",
      "Processing Record for laibin\n",
      "City Not Found. Skipping...\n",
      "City Not Found. Skipping...\n",
      "Processing Record for canico\n",
      "City Not Found. Skipping...\n",
      "Processing Record for lamas\n",
      "Processing Record for wasserburg\n",
      "Processing Record for mvuma\n",
      "Processing Record for dulce nombre de culmi\n",
      "Processing Record for necochea\n",
      "Processing Record for lazaro cardenas\n",
      "Processing Record for omboue\n",
      "Processing Record for russell\n",
      "-------------------------------\n",
      "Data Retrieval Complete\n",
      "-------------------------------\n"
     ]
    }
   ],
   "source": [
    "# Loop through the list of cities\n",
    "\n",
    "print(\"Beginning Data Retrieval\")\n",
    "print(\"-------------------------------\")\n",
    "\n",
    "for city in cities:\n",
    "    response = requests.get(query_url + city).json()\n",
    "\n",
    "    #try to pull data for each and print processing prompt\n",
    "    try:\n",
    "        lat.append(response['coord']['lat'])\n",
    "        lng.append(response['coord']['lon'])\n",
    "        temp.append(response['main']['temp_max'])\n",
    "        hum.append(response['main']['humidity'])\n",
    "        cloud.append(response['clouds']['all'])\n",
    "        wind.append(response['wind']['speed'])\n",
    "        city_name.append(city)\n",
    "        print(f\"Processing Record for {city}\")\n",
    "        \n",
    "    #handle cities not found\n",
    "    except:\n",
    "        print(\"City Not Found. Skipping...\")\n",
    "\n",
    "print(\"-------------------------------\")\n",
    "print(\"Data Retrieval Complete\")\n",
    "print(\"-------------------------------\")     "
   ]
  },
  {
   "cell_type": "markdown",
   "metadata": {},
   "source": [
    "### Convert Raw Data to DataFrame\n",
    "* Export the city data into a .csv.\n",
    "* Display the DataFrame"
   ]
  },
  {
   "cell_type": "code",
   "execution_count": 8,
   "metadata": {},
   "outputs": [
    {
     "data": {
      "text/html": [
       "<div>\n",
       "<style scoped>\n",
       "    .dataframe tbody tr th:only-of-type {\n",
       "        vertical-align: middle;\n",
       "    }\n",
       "\n",
       "    .dataframe tbody tr th {\n",
       "        vertical-align: top;\n",
       "    }\n",
       "\n",
       "    .dataframe thead th {\n",
       "        text-align: right;\n",
       "    }\n",
       "</style>\n",
       "<table border=\"1\" class=\"dataframe\">\n",
       "  <thead>\n",
       "    <tr style=\"text-align: right;\">\n",
       "      <th></th>\n",
       "      <th>City</th>\n",
       "      <th>Lat</th>\n",
       "      <th>Lng</th>\n",
       "      <th>Temp</th>\n",
       "      <th>Humidity</th>\n",
       "      <th>Cloudiness</th>\n",
       "      <th>Wind Speed</th>\n",
       "    </tr>\n",
       "  </thead>\n",
       "  <tbody>\n",
       "    <tr>\n",
       "      <td>0</td>\n",
       "      <td>jamestown</td>\n",
       "      <td>-33.21</td>\n",
       "      <td>138.60</td>\n",
       "      <td>13.47</td>\n",
       "      <td>87</td>\n",
       "      <td>89</td>\n",
       "      <td>2.65</td>\n",
       "    </tr>\n",
       "    <tr>\n",
       "      <td>1</td>\n",
       "      <td>knysna</td>\n",
       "      <td>-34.04</td>\n",
       "      <td>23.05</td>\n",
       "      <td>19.00</td>\n",
       "      <td>93</td>\n",
       "      <td>100</td>\n",
       "      <td>1.00</td>\n",
       "    </tr>\n",
       "    <tr>\n",
       "      <td>2</td>\n",
       "      <td>meulaboh</td>\n",
       "      <td>4.14</td>\n",
       "      <td>96.13</td>\n",
       "      <td>26.89</td>\n",
       "      <td>81</td>\n",
       "      <td>0</td>\n",
       "      <td>3.03</td>\n",
       "    </tr>\n",
       "    <tr>\n",
       "      <td>3</td>\n",
       "      <td>jingdezhen</td>\n",
       "      <td>29.29</td>\n",
       "      <td>117.20</td>\n",
       "      <td>12.33</td>\n",
       "      <td>93</td>\n",
       "      <td>77</td>\n",
       "      <td>1.13</td>\n",
       "    </tr>\n",
       "    <tr>\n",
       "      <td>4</td>\n",
       "      <td>sioux lookout</td>\n",
       "      <td>50.10</td>\n",
       "      <td>-91.92</td>\n",
       "      <td>-5.00</td>\n",
       "      <td>92</td>\n",
       "      <td>90</td>\n",
       "      <td>6.20</td>\n",
       "    </tr>\n",
       "    <tr>\n",
       "      <td>...</td>\n",
       "      <td>...</td>\n",
       "      <td>...</td>\n",
       "      <td>...</td>\n",
       "      <td>...</td>\n",
       "      <td>...</td>\n",
       "      <td>...</td>\n",
       "      <td>...</td>\n",
       "    </tr>\n",
       "    <tr>\n",
       "      <td>558</td>\n",
       "      <td>dulce nombre de culmi</td>\n",
       "      <td>15.08</td>\n",
       "      <td>-85.56</td>\n",
       "      <td>27.77</td>\n",
       "      <td>51</td>\n",
       "      <td>7</td>\n",
       "      <td>2.98</td>\n",
       "    </tr>\n",
       "    <tr>\n",
       "      <td>559</td>\n",
       "      <td>necochea</td>\n",
       "      <td>-38.55</td>\n",
       "      <td>-58.74</td>\n",
       "      <td>19.44</td>\n",
       "      <td>87</td>\n",
       "      <td>92</td>\n",
       "      <td>3.13</td>\n",
       "    </tr>\n",
       "    <tr>\n",
       "      <td>560</td>\n",
       "      <td>lazaro cardenas</td>\n",
       "      <td>28.39</td>\n",
       "      <td>-105.62</td>\n",
       "      <td>21.11</td>\n",
       "      <td>23</td>\n",
       "      <td>5</td>\n",
       "      <td>2.60</td>\n",
       "    </tr>\n",
       "    <tr>\n",
       "      <td>561</td>\n",
       "      <td>omboue</td>\n",
       "      <td>-1.57</td>\n",
       "      <td>9.26</td>\n",
       "      <td>25.29</td>\n",
       "      <td>87</td>\n",
       "      <td>100</td>\n",
       "      <td>0.91</td>\n",
       "    </tr>\n",
       "    <tr>\n",
       "      <td>562</td>\n",
       "      <td>russell</td>\n",
       "      <td>38.90</td>\n",
       "      <td>-98.86</td>\n",
       "      <td>10.00</td>\n",
       "      <td>31</td>\n",
       "      <td>1</td>\n",
       "      <td>7.70</td>\n",
       "    </tr>\n",
       "  </tbody>\n",
       "</table>\n",
       "<p>563 rows × 7 columns</p>\n",
       "</div>"
      ],
      "text/plain": [
       "                      City    Lat     Lng   Temp  Humidity  Cloudiness  \\\n",
       "0                jamestown -33.21  138.60  13.47        87          89   \n",
       "1                   knysna -34.04   23.05  19.00        93         100   \n",
       "2                 meulaboh   4.14   96.13  26.89        81           0   \n",
       "3               jingdezhen  29.29  117.20  12.33        93          77   \n",
       "4            sioux lookout  50.10  -91.92  -5.00        92          90   \n",
       "..                     ...    ...     ...    ...       ...         ...   \n",
       "558  dulce nombre de culmi  15.08  -85.56  27.77        51           7   \n",
       "559               necochea -38.55  -58.74  19.44        87          92   \n",
       "560        lazaro cardenas  28.39 -105.62  21.11        23           5   \n",
       "561                 omboue  -1.57    9.26  25.29        87         100   \n",
       "562                russell  38.90  -98.86  10.00        31           1   \n",
       "\n",
       "     Wind Speed  \n",
       "0          2.65  \n",
       "1          1.00  \n",
       "2          3.03  \n",
       "3          1.13  \n",
       "4          6.20  \n",
       "..          ...  \n",
       "558        2.98  \n",
       "559        3.13  \n",
       "560        2.60  \n",
       "561        0.91  \n",
       "562        7.70  \n",
       "\n",
       "[563 rows x 7 columns]"
      ]
     },
     "execution_count": 8,
     "metadata": {},
     "output_type": "execute_result"
    }
   ],
   "source": [
    "#create Dataframe\n",
    "weather_dict = {\n",
    "    \"City\": city_name,\n",
    "    \"Lat\": lat,\n",
    "    \"Lng\": lng,\n",
    "    \"Temp\": temp,\n",
    "    \"Humidity\": hum,\n",
    "    \"Cloudiness\": cloud,\n",
    "    \"Wind Speed\": wind}\n",
    "\n",
    "weather_data = pd.DataFrame(weather_dict)\n",
    "weather_data"
   ]
  },
  {
   "cell_type": "code",
   "execution_count": 9,
   "metadata": {},
   "outputs": [],
   "source": [
    "#export into CSV\n",
    "\n",
    "weather_data.to_csv(r'../my_output_data/cities.csv', index = None)\n"
   ]
  },
  {
   "cell_type": "markdown",
   "metadata": {},
   "source": [
    "### Plotting the Data\n",
    "* Use proper labeling of the plots using plot titles (including date of analysis) and axes labels.\n",
    "* Save the plotted figures as .pngs."
   ]
  },
  {
   "cell_type": "markdown",
   "metadata": {},
   "source": [
    "#### Latitude vs. Temperature Plot"
   ]
  },
  {
   "cell_type": "code",
   "execution_count": 15,
   "metadata": {},
   "outputs": [
    {
     "data": {
      "image/png": "[encoded data removed]",
      "text/plain": [
       "<Figure size 432x288 with 1 Axes>"
      ]
     },
     "metadata": {
      "needs_background": "light"
     },
     "output_type": "display_data"
    }
   ],
   "source": [
    "# Create a Scatter Plot for latitude vs. temperature\n",
    "plt.scatter(weather_data[\"Lat\"], weather_data[\"Temp\"], marker=\"o\", edgecolors=\"black\")\n",
    "\n",
    "# Graph Properties\n",
    "plt.title(\"City Latitude vs. Max Temperature\")\n",
    "plt.xlabel('Latitude')\n",
    "plt.ylabel('Max Temperature (C)')\n",
    "plt.grid(True)\n",
    "\n",
    "# Save the figure\n",
    "plt.savefig(\"../my_output_data/lat_vs_temp.png\")\n",
    "\n",
    "# Show Plot\n",
    "plt.show()"
   ]
  },
  {
   "cell_type": "code",
   "execution_count": null,
   "metadata": {},
   "outputs": [],
   "source": [
    "# This code is analyzing and plotting max temperature recorded at 631 cities at various latitude around the globe.\n",
    "# This is what we would expect, as temperatures are higher nearer the equator.\n",
    "# The fact that the \"arch\" extends much farther into northern latitudes than southern latitudes may be affected by the shape of the continents\n",
    "# and broader trends in human history - python may not be the correct tool for that analysis!"
   ]
  },
  {
   "cell_type": "markdown",
   "metadata": {},
   "source": [
    "#### Latitude vs. Humidity Plot"
   ]
  },
  {
   "cell_type": "code",
   "execution_count": 11,
   "metadata": {},
   "outputs": [
    {
     "data": {
      "image/png": "[encoded data removed]",
      "text/plain": [
       "<Figure size 432x288 with 1 Axes>"
      ]
     },
     "metadata": {
      "needs_background": "light"
     },
     "output_type": "display_data"
    }
   ],
   "source": [
    "# Create a Scatter Plot for latitude vs. humidity\n",
    "plt.scatter(weather_data[\"Lat\"], weather_data[\"Humidity\"], marker=\"o\", edgecolors=\"black\")\n",
    "\n",
    "# Graph Properties\n",
    "plt.title(\"City Latitude vs. Humidity\")\n",
    "plt.xlabel('Latitude')\n",
    "plt.ylabel('Humidity (%)')\n",
    "plt.grid(True)\n",
    "\n",
    "# Save the figure\n",
    "plt.savefig(\"../my_output_data/lat_vs_hum.png\")\n",
    "\n",
    "# Show Plot\n",
    "plt.show()"
   ]
  },
  {
   "cell_type": "code",
   "execution_count": null,
   "metadata": {},
   "outputs": [],
   "source": [
    "# This code analyzes and plots the humidity % compared with latitude. There are no obvious trends here, as we find examples of high and low\n",
    "# humidity cities at nearly all recorded latitudes. This phenomenon is likely influenced by a city's proximity to sources of water."
   ]
  },
  {
   "cell_type": "markdown",
   "metadata": {},
   "source": [
    "#### Latitude vs. Cloudiness Plot"
   ]
  },
  {
   "cell_type": "code",
   "execution_count": 12,
   "metadata": {},
   "outputs": [
    {
     "data": {
      "image/png": "[encoded data removed]",
      "text/plain": [
       "<Figure size 432x288 with 1 Axes>"
      ]
     },
     "metadata": {
      "needs_background": "light"
     },
     "output_type": "display_data"
    }
   ],
   "source": [
    "# Create a Scatter Plot for latitude vs. cloudiness\n",
    "plt.scatter(weather_data[\"Lat\"], weather_data[\"Cloudiness\"], marker=\"o\", edgecolors=\"black\")\n",
    "\n",
    "# Graph Properties\n",
    "plt.title(\"City Latitude vs. Cloudiness\")\n",
    "plt.xlabel('Latitude')\n",
    "plt.ylabel('Cloudiness (%)')\n",
    "plt.grid(True)\n",
    "\n",
    "# Save the figure\n",
    "plt.savefig(\"../my_output_data/lat_vs_cloud.png\")\n",
    "\n",
    "# Show Plot\n",
    "plt.show()"
   ]
  },
  {
   "cell_type": "code",
   "execution_count": null,
   "metadata": {},
   "outputs": [],
   "source": [
    "# This code analyzes and plots the percent of cloudy days in a year, against the latitude of the respective city. As we can see, there is \n",
    "# great variation in cloudiness at all latitudes. "
   ]
  },
  {
   "cell_type": "markdown",
   "metadata": {},
   "source": [
    "#### Latitude vs. Wind Speed Plot"
   ]
  },
  {
   "cell_type": "code",
   "execution_count": 13,
   "metadata": {},
   "outputs": [
    {
     "data": {
      "image/png": "[encoded data removed]",
      "text/plain": [
       "<Figure size 432x288 with 1 Axes>"
      ]
     },
     "metadata": {
      "needs_background": "light"
     },
     "output_type": "display_data"
    }
   ],
   "source": [
    "# Create a Scatter Plot for latitude vs. wind speed\n",
    "plt.scatter(weather_data[\"Lat\"], weather_data[\"Wind Speed\"], marker=\"o\", edgecolors=\"black\")\n",
    "\n",
    "# Graph Properties\n",
    "plt.title(\"City Latitude vs. Wind Speed\")\n",
    "plt.xlabel('Latitude')\n",
    "plt.ylabel('Wind Speed (mph)')\n",
    "plt.grid(True)\n",
    "\n",
    "# Save the figure\n",
    "plt.savefig(\"../my_output_data/lat_vs_wind.png\")\n",
    "\n",
    "# Show Plot\n",
    "plt.show()"
   ]
  },
  {
   "cell_type": "code",
   "execution_count": null,
   "metadata": {},
   "outputs": [],
   "source": [
    "# This code analyzes and plots average wind speed recorded in cities at various latitudes. As we see, few cities have average wind speeds\n",
    "# above 8 mph, and those that do can be found at all latitudes. Elevation, geography, and topography likely have a stronger effect than \n",
    "# latitude on this metric."
   ]
  },
  {
   "cell_type": "markdown",
   "metadata": {},
   "source": [
    "## Linear Regression"
   ]
  },
  {
   "cell_type": "code",
   "execution_count": 117,
   "metadata": {},
   "outputs": [],
   "source": [
    "# Create Northern and Southern Hemisphere DataFrames\n",
    "\n",
    "northern_weather_data = weather_data[weather_data['Lat'] >= 0]\n",
    "\n",
    "southern_weather_data = weather_data[weather_data['Lat'] < 0]"
   ]
  },
  {
   "cell_type": "markdown",
   "metadata": {},
   "source": [
    "####  Northern Hemisphere - Max Temp vs. Latitude Linear Regression"
   ]
  },
  {
   "cell_type": "code",
   "execution_count": 80,
   "metadata": {},
   "outputs": [
    {
     "name": "stdout",
     "output_type": "stream",
     "text": [
      "0      -14.490687\n",
      "2       10.333333\n",
      "3      -13.346188\n",
      "4      -14.273377\n",
      "5       17.432119\n",
      "          ...    \n",
      "1059    -0.387282\n",
      "1060    -0.198947\n",
      "1061   -16.772439\n",
      "1063    29.840508\n",
      "1064    -4.581361\n",
      "Name: Lat, Length: 728, dtype: float64\n"
     ]
    }
   ],
   "source": [
    "# Perform a linear regression on temperature vs. latitude\n",
    "(slope, intercept, rvalue, pvalue, stderr) = stats.linregress(northern_weather_data[\"Lat\"], northern_weather_data[\"Temp\"])\n",
    "\n",
    "# Get regression values\n",
    "regress_values = northern_weather_data[\"Lat\"] * slope + intercept\n",
    "print(regress_values)"
   ]
  },
  {
   "cell_type": "code",
   "execution_count": 81,
   "metadata": {},
   "outputs": [
    {
     "name": "stdout",
     "output_type": "stream",
     "text": [
      "y = -0.72x +33.43\n"
     ]
    }
   ],
   "source": [
    "# Create line equation string\n",
    "line_eq = \"y = \" + str(round(slope,2)) + \"x +\" + str(round(intercept,2))\n",
    "print(line_eq)"
   ]
  },
  {
   "cell_type": "code",
   "execution_count": 83,
   "metadata": {},
   "outputs": [
    {
     "name": "stdout",
     "output_type": "stream",
     "text": [
      "The r-squared is: -0.8615886961799204\n"
     ]
    },
    {
     "data": {
      "image/png": "[encoded data removed]",
      "text/plain": [
       "<Figure size 432x288 with 1 Axes>"
      ]
     },
     "metadata": {
      "needs_background": "light"
     },
     "output_type": "display_data"
    }
   ],
   "source": [
    "# Create Plot\n",
    "plt.scatter(northern_weather_data[\"Lat\"], northern_weather_data[\"Temp\"])\n",
    "plt.plot(northern_weather_data[\"Lat\"],regress_values,\"r-\")\n",
    "\n",
    "# Label plot and annotate the line equation\n",
    "plt.xlabel('Latitude')\n",
    "plt.ylabel('Max Temp')\n",
    "plt.annotate(line_eq,(10,-40),fontsize=15,color=\"red\")\n",
    "\n",
    "# Print r square value\n",
    "print(f\"The r-squared is: {rvalue}\")\n",
    "\n",
    "# Show plot\n",
    "plt.show()"
   ]
  },
  {
   "cell_type": "markdown",
   "metadata": {},
   "source": [
    "####  Southern Hemisphere - Max Temp vs. Latitude Linear Regression"
   ]
  },
  {
   "cell_type": "code",
   "execution_count": 86,
   "metadata": {},
   "outputs": [
    {
     "name": "stdout",
     "output_type": "stream",
     "text": [
      "1       14.993861\n",
      "7       27.380444\n",
      "10      22.018378\n",
      "11      20.121072\n",
      "12      20.234541\n",
      "          ...    \n",
      "1046    22.780995\n",
      "1050    16.917555\n",
      "1051    23.638609\n",
      "1062    28.230142\n",
      "1065    22.361424\n",
      "Name: Lat, Length: 338, dtype: float64\n"
     ]
    }
   ],
   "source": [
    "# Perform a linear regression on temperature vs. latitude\n",
    "(slope, intercept, rvalue, pvalue, stderr) = stats.linregress(southern_weather_data[\"Lat\"], southern_weather_data[\"Temp\"])\n",
    "\n",
    "# Get regression values\n",
    "regress_values = southern_weather_data[\"Lat\"] * slope + intercept\n",
    "print(regress_values)"
   ]
  },
  {
   "cell_type": "code",
   "execution_count": 87,
   "metadata": {},
   "outputs": [
    {
     "name": "stdout",
     "output_type": "stream",
     "text": [
      "y = 0.26x +29.02\n"
     ]
    }
   ],
   "source": [
    "# Create line equation string\n",
    "line_eq = \"y = \" + str(round(slope,2)) + \"x +\" + str(round(intercept,2))\n",
    "print(line_eq)"
   ]
  },
  {
   "cell_type": "code",
   "execution_count": 89,
   "metadata": {},
   "outputs": [
    {
     "name": "stdout",
     "output_type": "stream",
     "text": [
      "The r-squared is: 0.6196166134187556\n"
     ]
    },
    {
     "data": {
      "image/png": "[encoded data removed]",
      "text/plain": [
       "<Figure size 432x288 with 1 Axes>"
      ]
     },
     "metadata": {
      "needs_background": "light"
     },
     "output_type": "display_data"
    }
   ],
   "source": [
    "# Create Plot\n",
    "plt.scatter(southern_weather_data[\"Lat\"], southern_weather_data[\"Temp\"])\n",
    "plt.plot(southern_weather_data[\"Lat\"],regress_values,\"r-\")\n",
    "\n",
    "# Label plot and annotate the line equation\n",
    "plt.xlabel('Latitude')\n",
    "plt.ylabel('Max Temp')\n",
    "plt.annotate(line_eq,(-30,10),fontsize=15,color=\"red\")\n",
    "\n",
    "# Print r square value\n",
    "print(f\"The r-squared is: {rvalue}\")\n",
    "\n",
    "# Show plot\n",
    "plt.show()"
   ]
  },
  {
   "cell_type": "markdown",
   "metadata": {},
   "source": [
    "####  Northern Hemisphere - Humidity (%) vs. Latitude Linear Regression"
   ]
  },
  {
   "cell_type": "code",
   "execution_count": 90,
   "metadata": {},
   "outputs": [
    {
     "name": "stdout",
     "output_type": "stream",
     "text": [
      "0       83.395537\n",
      "2       70.414660\n",
      "3       82.797060\n",
      "4       83.281902\n",
      "5       66.702591\n",
      "          ...    \n",
      "1059    76.020641\n",
      "1060    75.922158\n",
      "1061    84.588702\n",
      "1063    60.214046\n",
      "1064    78.213792\n",
      "Name: Lat, Length: 728, dtype: float64\n"
     ]
    }
   ],
   "source": [
    "# Perform a linear regression on temperature vs. latitude\n",
    "(slope, intercept, rvalue, pvalue, stderr) = stats.linregress(northern_weather_data[\"Lat\"], northern_weather_data[\"Humidity\"])\n",
    "\n",
    "# Get regression values\n",
    "regress_values = northern_weather_data[\"Lat\"] * slope + intercept\n",
    "print(regress_values)"
   ]
  },
  {
   "cell_type": "code",
   "execution_count": 91,
   "metadata": {},
   "outputs": [
    {
     "name": "stdout",
     "output_type": "stream",
     "text": [
      "y = 0.38x +58.34\n"
     ]
    }
   ],
   "source": [
    "# Create line equation string\n",
    "line_eq = \"y = \" + str(round(slope,2)) + \"x +\" + str(round(intercept,2))\n",
    "print(line_eq)"
   ]
  },
  {
   "cell_type": "code",
   "execution_count": 93,
   "metadata": {},
   "outputs": [
    {
     "name": "stdout",
     "output_type": "stream",
     "text": [
      "The r-squared is: 0.3742339003012909\n"
     ]
    },
    {
     "data": {
      "image/png": "[encoded data removed]",
      "text/plain": [
       "<Figure size 432x288 with 1 Axes>"
      ]
     },
     "metadata": {
      "needs_background": "light"
     },
     "output_type": "display_data"
    }
   ],
   "source": [
    "# Create Plot\n",
    "plt.scatter(northern_weather_data[\"Lat\"], northern_weather_data[\"Humidity\"])\n",
    "plt.plot(northern_weather_data[\"Lat\"],regress_values,\"r-\")\n",
    "\n",
    "# Label plot and annotate the line equation\n",
    "plt.xlabel('Latitude')\n",
    "plt.ylabel('Humidity')\n",
    "plt.annotate(line_eq,(45,10),fontsize=15,color=\"red\")\n",
    "\n",
    "# Print r square value\n",
    "print(f\"The r-squared is: {rvalue}\")\n",
    "\n",
    "# Show plot\n",
    "plt.show()"
   ]
  },
  {
   "cell_type": "markdown",
   "metadata": {},
   "source": [
    "####  Southern Hemisphere - Humidity (%) vs. Latitude Linear Regression"
   ]
  },
  {
   "cell_type": "code",
   "execution_count": 94,
   "metadata": {},
   "outputs": [
    {
     "name": "stdout",
     "output_type": "stream",
     "text": [
      "1       60.766150\n",
      "7       78.970789\n",
      "10      71.090127\n",
      "11      68.301645\n",
      "12      68.468411\n",
      "          ...    \n",
      "1046    72.210950\n",
      "1050    63.593415\n",
      "1051    73.471390\n",
      "1062    80.219595\n",
      "1065    71.594303\n",
      "Name: Lat, Length: 338, dtype: float64\n"
     ]
    }
   ],
   "source": [
    "# Perform a linear regression on temperature vs. latitude\n",
    "(slope, intercept, rvalue, pvalue, stderr) = stats.linregress(southern_weather_data[\"Lat\"], southern_weather_data[\"Humidity\"])\n",
    "\n",
    "# Get regression values\n",
    "regress_values = southern_weather_data[\"Lat\"] * slope + intercept\n",
    "print(regress_values)"
   ]
  },
  {
   "cell_type": "code",
   "execution_count": 95,
   "metadata": {},
   "outputs": [
    {
     "name": "stdout",
     "output_type": "stream",
     "text": [
      "y = 0.39x +81.38\n"
     ]
    }
   ],
   "source": [
    "# Create line equation string\n",
    "line_eq = \"y = \" + str(round(slope,2)) + \"x +\" + str(round(intercept,2))\n",
    "print(line_eq)"
   ]
  },
  {
   "cell_type": "code",
   "execution_count": 97,
   "metadata": {},
   "outputs": [
    {
     "name": "stdout",
     "output_type": "stream",
     "text": [
      "The r-squared is: 0.2703253399597768\n"
     ]
    },
    {
     "data": {
      "image/png": "[encoded data removed]",
      "text/plain": [
       "<Figure size 432x288 with 1 Axes>"
      ]
     },
     "metadata": {
      "needs_background": "light"
     },
     "output_type": "display_data"
    }
   ],
   "source": [
    "# Create Plot\n",
    "plt.scatter(southern_weather_data[\"Lat\"], southern_weather_data[\"Humidity\"])\n",
    "plt.plot(southern_weather_data[\"Lat\"],regress_values,\"r-\")\n",
    "\n",
    "# Label plot and annotate the line equation\n",
    "plt.xlabel('Latitude')\n",
    "plt.ylabel('Humidity')\n",
    "plt.annotate(line_eq,(-57,15),fontsize=15,color=\"red\")\n",
    "\n",
    "# Print r square value\n",
    "print(f\"The r-squared is: {rvalue}\")\n",
    "\n",
    "# Show plot\n",
    "plt.show()"
   ]
  },
  {
   "cell_type": "markdown",
   "metadata": {},
   "source": [
    "####  Northern Hemisphere - Cloudiness (%) vs. Latitude Linear Regression"
   ]
  },
  {
   "cell_type": "code",
   "execution_count": 98,
   "metadata": {},
   "outputs": [
    {
     "name": "stdout",
     "output_type": "stream",
     "text": [
      "0       68.298568\n",
      "2       47.933944\n",
      "3       67.359668\n",
      "4       68.120296\n",
      "5       42.110387\n",
      "          ...    \n",
      "1059    56.728705\n",
      "1060    56.574202\n",
      "1061    70.170426\n",
      "1063    31.931046\n",
      "1064    60.169357\n",
      "Name: Lat, Length: 728, dtype: float64\n"
     ]
    }
   ],
   "source": [
    "# Perform a linear regression on temperature vs. latitude\n",
    "(slope, intercept, rvalue, pvalue, stderr) = stats.linregress(northern_weather_data[\"Lat\"], northern_weather_data[\"Cloudiness\"])\n",
    "\n",
    "# Get regression values\n",
    "regress_values = northern_weather_data[\"Lat\"] * slope + intercept\n",
    "print(regress_values)"
   ]
  },
  {
   "cell_type": "code",
   "execution_count": 99,
   "metadata": {},
   "outputs": [
    {
     "name": "stdout",
     "output_type": "stream",
     "text": [
      "y = 0.59x +28.99\n"
     ]
    }
   ],
   "source": [
    "# Create line equation string\n",
    "line_eq = \"y = \" + str(round(slope,2)) + \"x +\" + str(round(intercept,2))\n",
    "print(line_eq)"
   ]
  },
  {
   "cell_type": "code",
   "execution_count": 102,
   "metadata": {},
   "outputs": [
    {
     "name": "stdout",
     "output_type": "stream",
     "text": [
      "The r-squared is: 0.3065123043090051\n"
     ]
    },
    {
     "data": {
      "image/png": "[encoded data removed]",
      "text/plain": [
       "<Figure size 432x288 with 1 Axes>"
      ]
     },
     "metadata": {
      "needs_background": "light"
     },
     "output_type": "display_data"
    }
   ],
   "source": [
    "# Create Plot\n",
    "plt.scatter(northern_weather_data[\"Lat\"], northern_weather_data[\"Cloudiness\"])\n",
    "plt.plot(northern_weather_data[\"Lat\"],regress_values,\"r-\")\n",
    "\n",
    "# Label plot and annotate the line equation\n",
    "plt.xlabel('Latitude')\n",
    "plt.ylabel('Cloudiness')\n",
    "plt.annotate(line_eq,(45,9),fontsize=15,color=\"red\")\n",
    "\n",
    "# Print r square value\n",
    "print(f\"The r-squared is: {rvalue}\")\n",
    "\n",
    "# Show plot\n",
    "plt.show()"
   ]
  },
  {
   "cell_type": "markdown",
   "metadata": {},
   "source": [
    "####  Southern Hemisphere - Cloudiness (%) vs. Latitude Linear Regression"
   ]
  },
  {
   "cell_type": "code",
   "execution_count": 103,
   "metadata": {},
   "outputs": [
    {
     "name": "stdout",
     "output_type": "stream",
     "text": [
      "1       42.233259\n",
      "7       67.184024\n",
      "10      56.383011\n",
      "11      52.561196\n",
      "12      52.789761\n",
      "          ...    \n",
      "1046    57.919179\n",
      "1050    46.108229\n",
      "1051    59.646703\n",
      "1062    68.895602\n",
      "1065    57.074021\n",
      "Name: Lat, Length: 338, dtype: float64\n"
     ]
    }
   ],
   "source": [
    "# Perform a linear regression on temperature vs. latitude\n",
    "(slope, intercept, rvalue, pvalue, stderr) = stats.linregress(southern_weather_data[\"Lat\"], southern_weather_data[\"Cloudiness\"])\n",
    "\n",
    "# Get regression values\n",
    "regress_values = southern_weather_data[\"Lat\"] * slope + intercept\n",
    "print(regress_values)"
   ]
  },
  {
   "cell_type": "code",
   "execution_count": 104,
   "metadata": {},
   "outputs": [
    {
     "name": "stdout",
     "output_type": "stream",
     "text": [
      "y = 0.53x +70.49\n"
     ]
    }
   ],
   "source": [
    "# Create line equation string\n",
    "line_eq = \"y = \" + str(round(slope,2)) + \"x +\" + str(round(intercept,2))\n",
    "print(line_eq)"
   ]
  },
  {
   "cell_type": "code",
   "execution_count": 106,
   "metadata": {},
   "outputs": [
    {
     "name": "stdout",
     "output_type": "stream",
     "text": [
      "The r-squared is: 0.19008787413114897\n"
     ]
    },
    {
     "data": {
      "image/png": "[encoded data removed]",
      "text/plain": [
       "<Figure size 432x288 with 1 Axes>"
      ]
     },
     "metadata": {
      "needs_background": "light"
     },
     "output_type": "display_data"
    }
   ],
   "source": [
    "# Create Plot\n",
    "plt.scatter(southern_weather_data[\"Lat\"], southern_weather_data[\"Cloudiness\"])\n",
    "plt.plot(southern_weather_data[\"Lat\"],regress_values,\"r-\")\n",
    "\n",
    "# Label plot and annotate the line equation\n",
    "plt.xlabel('Latitude')\n",
    "plt.ylabel('Cloudiness')\n",
    "plt.annotate(line_eq,(-57,5),fontsize=15,color=\"red\")\n",
    "\n",
    "# Print r square value\n",
    "print(f\"The r-squared is: {rvalue}\")\n",
    "\n",
    "# Show plot\n",
    "plt.show()"
   ]
  },
  {
   "cell_type": "markdown",
   "metadata": {},
   "source": [
    "####  Northern Hemisphere - Wind Speed (mph) vs. Latitude Linear Regression"
   ]
  },
  {
   "cell_type": "code",
   "execution_count": 107,
   "metadata": {},
   "outputs": [
    {
     "name": "stdout",
     "output_type": "stream",
     "text": [
      "0       4.426555\n",
      "2       3.942833\n",
      "3       4.404253\n",
      "4       4.422320\n",
      "5       3.804506\n",
      "          ...   \n",
      "1059    4.151735\n",
      "1060    4.148065\n",
      "1061    4.471017\n",
      "1063    3.562715\n",
      "1064    4.233461\n",
      "Name: Lat, Length: 728, dtype: float64\n"
     ]
    }
   ],
   "source": [
    "# Perform a linear regression on temperature vs. latitude\n",
    "(slope, intercept, rvalue, pvalue, stderr) = stats.linregress(northern_weather_data[\"Lat\"], northern_weather_data[\"Wind Speed\"])\n",
    "\n",
    "# Get regression values\n",
    "regress_values = northern_weather_data[\"Lat\"] * slope + intercept\n",
    "print(regress_values)"
   ]
  },
  {
   "cell_type": "code",
   "execution_count": 108,
   "metadata": {},
   "outputs": [
    {
     "name": "stdout",
     "output_type": "stream",
     "text": [
      "y = 0.01x +3.49\n"
     ]
    }
   ],
   "source": [
    "# Create line equation string\n",
    "line_eq = \"y = \" + str(round(slope,2)) + \"x +\" + str(round(intercept,2))\n",
    "print(line_eq)"
   ]
  },
  {
   "cell_type": "code",
   "execution_count": 110,
   "metadata": {},
   "outputs": [
    {
     "name": "stdout",
     "output_type": "stream",
     "text": [
      "The r-squared is: 0.10516901496385218\n"
     ]
    },
    {
     "data": {
      "image/png": "[encoded data removed]",
      "text/plain": [
       "<Figure size 432x288 with 1 Axes>"
      ]
     },
     "metadata": {
      "needs_background": "light"
     },
     "output_type": "display_data"
    }
   ],
   "source": [
    "# Create Plot\n",
    "plt.scatter(northern_weather_data[\"Lat\"], northern_weather_data[\"Wind Speed\"])\n",
    "plt.plot(northern_weather_data[\"Lat\"],regress_values,\"r-\")\n",
    "\n",
    "# Label plot and annotate the line equation\n",
    "plt.xlabel('Latitude')\n",
    "plt.ylabel('Wind Speed')\n",
    "plt.annotate(line_eq,(10,14),fontsize=15,color=\"red\")\n",
    "\n",
    "# Print r square value\n",
    "print(f\"The r-squared is: {rvalue}\")\n",
    "\n",
    "# Show plot\n",
    "plt.show()"
   ]
  },
  {
   "cell_type": "markdown",
   "metadata": {},
   "source": [
    "####  Southern Hemisphere - Wind Speed (mph) vs. Latitude Linear Regression"
   ]
  },
  {
   "cell_type": "code",
   "execution_count": 113,
   "metadata": {},
   "outputs": [
    {
     "name": "stdout",
     "output_type": "stream",
     "text": [
      "1       4.765790\n",
      "7       3.387869\n",
      "10      3.984362\n",
      "11      4.195424\n",
      "12      4.182801\n",
      "          ...   \n",
      "1046    3.899526\n",
      "1050    4.551793\n",
      "1051    3.804122\n",
      "1062    3.293346\n",
      "1065    3.946200\n",
      "Name: Lat, Length: 338, dtype: float64\n"
     ]
    }
   ],
   "source": [
    "# Perform a linear regression on temperature vs. latitude\n",
    "(slope, intercept, rvalue, pvalue, stderr) = stats.linregress(southern_weather_data[\"Lat\"], southern_weather_data[\"Wind Speed\"])\n",
    "\n",
    "# Get regression values\n",
    "regress_values = southern_weather_data[\"Lat\"] * slope + intercept\n",
    "print(regress_values)"
   ]
  },
  {
   "cell_type": "code",
   "execution_count": 114,
   "metadata": {},
   "outputs": [
    {
     "name": "stdout",
     "output_type": "stream",
     "text": [
      "y = -0.03x +3.21\n"
     ]
    }
   ],
   "source": [
    "# Create line equation string\n",
    "line_eq = \"y = \" + str(round(slope,2)) + \"x +\" + str(round(intercept,2))\n",
    "print(line_eq)"
   ]
  },
  {
   "cell_type": "code",
   "execution_count": 116,
   "metadata": {},
   "outputs": [
    {
     "name": "stdout",
     "output_type": "stream",
     "text": [
      "The r-squared is: -0.1555321769857362\n"
     ]
    },
    {
     "data": {
      "image/png": "[encoded data removed]",
      "text/plain": [
       "<Figure size 432x288 with 1 Axes>"
      ]
     },
     "metadata": {
      "needs_background": "light"
     },
     "output_type": "display_data"
    }
   ],
   "source": [
    "# Create Plot\n",
    "plt.scatter(southern_weather_data[\"Lat\"], southern_weather_data[\"Wind Speed\"])\n",
    "plt.plot(southern_weather_data[\"Lat\"],regress_values,\"r-\")\n",
    "\n",
    "# Label plot and annotate the line equation\n",
    "plt.xlabel('Latitude')\n",
    "plt.ylabel('Wind Speed')\n",
    "plt.annotate(line_eq,(-55,12),fontsize=15,color=\"red\")\n",
    "\n",
    "# Print r square value\n",
    "print(f\"The r-squared is: {rvalue}\")\n",
    "\n",
    "# Show plot\n",
    "plt.show()"
   ]
  },
  {
   "cell_type": "code",
   "execution_count": null,
   "metadata": {},
   "outputs": [],
   "source": []
  }
 ],
 "metadata": {
  "anaconda-cloud": {},
  "kernel_info": {
   "name": "python3"
  },
  "kernelspec": {
   "display_name": "Python 3",
   "language": "python",
   "name": "python3"
  },
  "language_info": {
   "codemirror_mode": {
    "name": "ipython",
    "version": 3
   },
   "file_extension": ".py",
   "mimetype": "text/x-python",
   "name": "python",
   "nbconvert_exporter": "python",
   "pygments_lexer": "ipython3",
   "version": "3.7.4"
  },
  "latex_envs": {
   "LaTeX_envs_menu_present": true,
   "autoclose": false,
   "autocomplete": true,
   "bibliofile": "biblio.bib",
   "cite_by": "apalike",
   "current_citInitial": 1,
   "eqLabelWithNumbers": true,
   "eqNumInitial": 1,
   "hotkeys": {
    "equation": "Ctrl-E",
    "itemize": "Ctrl-I"
   },
   "labels_anchors": false,
   "latex_user_defs": false,
   "report_style_numbering": false,
   "user_envs_cfg": false
  },
  "nteract": {
   "version": "0.12.3"
  }
 },
 "nbformat": 4,
 "nbformat_minor": 4
}
